{
 "cells": [
  {
   "cell_type": "code",
   "execution_count": 5,
   "metadata": {},
   "outputs": [],
   "source": [
    "import pandas as pd\n",
    "\n",
    "from sklearn.model_selection import train_test_split\n",
    "\n",
    "from sklearn.ensemble import RandomForestClassifier\n",
    "\n",
    "from mlxtend.feature_selection import SequentialFeatureSelector as SFS\n",
    "from mlxtend.plotting import plot_sequential_feature_selection as plot_sfs\n",
    "\n",
    "\n",
    "from sklearn.metrics import classification_report\n",
    "from sklearn.metrics import confusion_matrix\n",
    "from sklearn.metrics import accuracy_score\n",
    "\n",
    "import numpy as np\n",
    "\n",
    "import warnings\n",
    "warnings.simplefilter(action='ignore', category=FutureWarning)"
   ]
  },
  {
   "cell_type": "code",
   "execution_count": 2,
   "metadata": {},
   "outputs": [],
   "source": [
    "df = pd.read_csv(\"DDoS-TrainTest.csv\")"
   ]
  },
  {
   "cell_type": "code",
   "execution_count": 3,
   "metadata": {},
   "outputs": [],
   "source": [
    "df2 = pd.read_csv(\"DDoS-Validation.csv\")"
   ]
  },
  {
   "cell_type": "code",
   "execution_count": 6,
   "metadata": {},
   "outputs": [],
   "source": [
    "df = df.replace('infinity', 2147483645) #string values of infinity where present this switches them with the max float \n",
    "df = df.replace('Infinity', 2147483645)\n",
    "df = df.replace([np.inf, -np.inf], 2147483645) #remove inf values,\n",
    "\n",
    "\n",
    "df2 = df2.replace('infinity', 2147483645) #string values of infinity where present this switches them with the max float \n",
    "df2 = df2.replace('Infinity', 2147483645)\n",
    "df2 = df2.replace([np.inf, -np.inf], 2147483645) #remove inf values,\n"
   ]
  },
  {
   "cell_type": "code",
   "execution_count": 7,
   "metadata": {},
   "outputs": [],
   "source": [
    "dfTrainTestLable = df[[\"Label2\"]]\n",
    "dfValidationLable = df2[[\"Label2\"]]"
   ]
  },
  {
   "cell_type": "code",
   "execution_count": 8,
   "metadata": {},
   "outputs": [],
   "source": [
    "df = df.drop('Label2', axis=1)\n",
    "df2 = df2.drop('Label2', axis=1)"
   ]
  },
  {
   "cell_type": "code",
   "execution_count": 9,
   "metadata": {},
   "outputs": [
    {
     "data": {
      "text/plain": [
       "Unnamed: 0                      0\n",
       " ACK Flag Count                 0\n",
       " Active Max                     0\n",
       " Active Min                     0\n",
       " Active Std                     0\n",
       " Average Packet Size            0\n",
       " Avg Bwd Segment Size           0\n",
       " Avg Fwd Segment Size           0\n",
       " Bwd Avg Bytes/Bulk             0\n",
       " Bwd Avg Packets/Bulk           0\n",
       " Bwd Header Length              0\n",
       " Bwd IAT Max                    0\n",
       " Bwd IAT Mean                   0\n",
       " Bwd IAT Min                    0\n",
       " Bwd IAT Std                    0\n",
       " Bwd PSH Flags                  0\n",
       " Bwd Packet Length Mean         0\n",
       " Bwd Packet Length Min          0\n",
       " Bwd Packet Length Std          0\n",
       " Bwd Packets/s                  0\n",
       " Bwd URG Flags                  0\n",
       " CWE Flag Count                 0\n",
       " Destination Port               0\n",
       " Down/Up Ratio                  0\n",
       " ECE Flag Count                 0\n",
       " Flow Duration                  0\n",
       " Flow IAT Max                   0\n",
       " Flow IAT Mean                  0\n",
       " Flow IAT Min                   0\n",
       " Flow IAT Std                   0\n",
       " Flow Packets/s                 0\n",
       " Fwd Avg Bulk Rate              0\n",
       " Fwd Avg Packets/Bulk           0\n",
       " Fwd Header Length              0\n",
       " Fwd Header Length.1            0\n",
       " Fwd IAT Max                    0\n",
       " Fwd IAT Mean                   0\n",
       " Fwd IAT Min                    0\n",
       " Fwd IAT Std                    0\n",
       " Fwd Packet Length Max          0\n",
       " Fwd Packet Length Mean         0\n",
       " Fwd Packet Length Min          0\n",
       " Fwd Packet Length Std          0\n",
       " Fwd URG Flags                  0\n",
       " Idle Max                       0\n",
       " Idle Min                       0\n",
       " Idle Std                       0\n",
       " Init_Win_bytes_backward        0\n",
       " Label                          0\n",
       " Max Packet Length              0\n",
       " Min Packet Length              0\n",
       " PSH Flag Count                 0\n",
       " Packet Length Mean             0\n",
       " Packet Length Std              0\n",
       " Packet Length Variance         0\n",
       " RST Flag Count                 0\n",
       " SYN Flag Count                 0\n",
       " Subflow Bwd Bytes              0\n",
       " Subflow Bwd Packets            0\n",
       " Subflow Fwd Bytes              0\n",
       " Total Backward Packets         0\n",
       " Total Fwd Packets              0\n",
       " Total Length of Bwd Packets    0\n",
       " URG Flag Count                 0\n",
       " act_data_pkt_fwd               0\n",
       " min_seg_size_forward           0\n",
       "Active Mean                     0\n",
       "Bwd Avg Bulk Rate               0\n",
       "Bwd IAT Total                   0\n",
       "Bwd Packet Length Max           0\n",
       "FIN Flag Count                  0\n",
       "Flow Bytes/s                    0\n",
       "Fwd Avg Bytes/Bulk              0\n",
       "Fwd IAT Total                   0\n",
       "Fwd PSH Flags                   0\n",
       "Fwd Packets/s                   0\n",
       "Idle Mean                       0\n",
       "Init_Win_bytes_forward          0\n",
       "Subflow Fwd Packets             0\n",
       "Total Length of Fwd Packets     0\n",
       "dtype: int64"
      ]
     },
     "execution_count": 9,
     "metadata": {},
     "output_type": "execute_result"
    }
   ],
   "source": [
    "pd.set_option('display.max_rows', None)\n"
   ]
  },
  {
   "cell_type": "code",
   "execution_count": 10,
   "metadata": {},
   "outputs": [],
   "source": [
    "def ForwardFeatureSelecton(model, train_x, train_y):\n",
    "    sfs = SFS(model,\n",
    "           k_features=(3,11),\n",
    "           forward=True,\n",
    "           floating=False,\n",
    "           scoring = 'accuracy',\n",
    "           cv = 5)\n",
    "    \n",
    "    sfs.fit(train_x, train_y)\n",
    "    \n",
    "    return sfs"
   ]
  },
  {
   "cell_type": "code",
   "execution_count": 11,
   "metadata": {},
   "outputs": [],
   "source": [
    "def BackwardFeatureSelecton(model, train_x, train_y):\n",
    "    sbs = SFS(model,\n",
    "          k_features=(3,11),\n",
    "          forward=False,\n",
    "          floating=False,\n",
    "          scoring = 'accuracy',\n",
    "          cv = 5)\n",
    "    sbs.fit(train_x, train_y)\n",
    "    return sbs"
   ]
  },
  {
   "cell_type": "code",
   "execution_count": 12,
   "metadata": {},
   "outputs": [],
   "source": [
    "def findbestfeatures(fs):\n",
    "    score = fs.k_score_\n",
    "    features = fs.k_feature_idx_\n",
    "    print('best combination (ACC: %.3f): %s\\n' % (fs.k_score_, fs.k_feature_idx_))\n",
    "    plot_sfs(fs.get_metric_dict(), kind='std_err');\n",
    "    ret = [score, features]\n",
    "    return ret"
   ]
  },
  {
   "cell_type": "code",
   "execution_count": 13,
   "metadata": {},
   "outputs": [],
   "source": [
    "def GetFeatureNames(features, columns):\n",
    "    ret = []\n",
    "    for x in range(0, len(features)):\n",
    "        temp = columns[features[x]]\n",
    "        ret.append(temp)\n",
    "    return ret\n",
    "        "
   ]
  },
  {
   "cell_type": "code",
   "execution_count": 14,
   "metadata": {},
   "outputs": [],
   "source": [
    "def TrainTest(model, X_train_sfs, X_test_sfs, train_y, test_y):\n",
    "    model.fit(X_train_sfs, train_y)\n",
    "    y_pred = model.predict(X_test_sfs)\n",
    "    return y_pred"
   ]
  },
  {
   "cell_type": "code",
   "execution_count": 15,
   "metadata": {},
   "outputs": [],
   "source": [
    "def PrintResults(test_y, y_pred):\n",
    "    print(\"Accuracy: {0:.2f}%\".format(100*accuracy_score(y_pred, test_y)))\n",
    "    print(\" \")\n",
    "    #Display the Confusion Matrix and Classification Report \n",
    "    print(\"Confusion Matrix:\")\n",
    "    print(confusion_matrix(y_pred, test_y))\n",
    "    print(\" \")\n",
    "    print(\"Classification Report:\")\n",
    "    print(classification_report(y_pred, test_y))"
   ]
  },
  {
   "cell_type": "code",
   "execution_count": 18,
   "metadata": {},
   "outputs": [],
   "source": [
    "def FeatureSelection(model, df, df2):\n",
    "    train_x, test_x, train_y, test_y = train_test_split(df.drop(' Label', axis =1 ),df[' Label'],test_size=0.3, random_state=42)\n",
    "    \n",
    "    train_x2, test_x2, train_y2, test_y2 = train_test_split(df2.drop(' Label', axis =1 ),df2[' Label'],test_size=0.3, random_state=42)\n",
    "    \n",
    "    ret = {}\n",
    "    print(\"Forward Selection\")\n",
    "    \n",
    "    RFCsfs = ForwardFeatureSelecton(model, train_x, train_y)\n",
    "    sfsval = findbestfeatures(RFCsfs)\n",
    "    sfsNames = GetFeatureNames(sfsval[1], df.columns)\n",
    "    \n",
    "    \n",
    "    \n",
    "    X_train_sfs = RFCsfs.transform(train_x)\n",
    "    X_test_sfs = RFCsfs.transform(test_x)\n",
    "    y_predf = TrainTest(model, X_train_sfs, X_test_sfs, train_y, test_y)\n",
    "    PrintResults(test_y, y_predf)\n",
    "    acc = accuracy_score(test_y, y_predf)\n",
    "    \n",
    "    X_train_sfs2 = RFCsfs.transform(train_x2)\n",
    "    X_test_sfs2 = RFCsfs.transform(test_x2)\n",
    "    y_predf2 = TrainTest(model, X_train_sfs2, X_test_sfs2, train_y2, test_y2)\n",
    "    PrintResults(test_y2, y_predf2)\n",
    "    acc2 = accuracy_score(test_y2, y_predf2)\n",
    "    \n",
    "    \n",
    "    ret['Forward Selection Features'] = sfsNames\n",
    "    ret['Forward Selection Features Index'] = sfsval[1]\n",
    "    ret['Forward Selection Training Accuracy'] = sfsval[0]\n",
    "    ret['Forward Selection Test Accuracy'] = acc\n",
    "    ret['Forward Selection Validation Accuracy'] = acc2\n",
    "    \n",
    "    print(\"Backward Selection\")\n",
    "    RFCsbs = BackwardFeatureSelecton(model, train_x, train_y)\n",
    "    sbsval = findbestfeatures(RFCsbs)\n",
    "    sbsNames = GetFeatureNames(sbsval[1], df.columns)\n",
    "\n",
    "    X_train_sbs = RFCsbs.transform(train_x)\n",
    "    X_test_sbs = RFCsbs.transform(test_x)\n",
    "    y_predb = TrainTest(model, X_train_sbs, X_test_sbs, train_y, test_y)\n",
    "    PrintResults(test_y, y_predb)\n",
    "    acc = accuracy_score(test_y, y_predb)\n",
    "    \n",
    "    \n",
    "    X_train_sbs2 = RFCsbs.transform(train_x2)\n",
    "    X_test_sbs2 = RFCsbs.transform(test_x2)\n",
    "    y_predb2 = TrainTest(model, X_train_sbs2, X_test_sbs2, train_y2, test_y2)\n",
    "    PrintResults(test_y2, y_predb2)\n",
    "    acc2 = accuracy_score(test_y2, y_predb2)\n",
    "    \n",
    "    ret['Backward Selection Features'] = sbsNames\n",
    "    ret['Backward Selection Features Index'] = sbsval[1]\n",
    "    ret['Backward Selection Training Accuracy'] = sbsval[0]\n",
    "    ret['Backward Selection Test Accuracy'] = acc\n",
    "    ret['Backward Selection Validation Accuracy'] = acc2\n",
    "    \n",
    "    return ret, y_predf, y_predb, y_predf2, y_predb2"
   ]
  },
  {
   "cell_type": "code",
   "execution_count": null,
   "metadata": {},
   "outputs": [
    {
     "name": "stdout",
     "output_type": "stream",
     "text": [
      "Random Forest Classifier\n",
      "Forward Selection\n"
     ]
    }
   ],
   "source": [
    "RFC = RandomForestClassifier()\n",
    "print(\"Random Forest Classifier\")\n",
    "RFCdf, RCFP1, RCFP2, RCFP3, RCFP4 = FeatureSelection(RFC,df, df2)\n",
    "RFCdf[\"Model\"] = \"Random Forest Classifier\""
   ]
  },
  {
   "cell_type": "code",
   "execution_count": null,
   "metadata": {},
   "outputs": [],
   "source": [
    "#(1, 5, 19, 22, 24, 36, 41, 47, 76)"
   ]
  }
 ],
 "metadata": {
  "kernelspec": {
   "display_name": "Python 3",
   "language": "python",
   "name": "python3"
  },
  "language_info": {
   "codemirror_mode": {
    "name": "ipython",
    "version": 3
   },
   "file_extension": ".py",
   "mimetype": "text/x-python",
   "name": "python",
   "nbconvert_exporter": "python",
   "pygments_lexer": "ipython3",
   "version": "3.7.4"
  }
 },
 "nbformat": 4,
 "nbformat_minor": 2
}
